{
 "cells": [
  {
   "cell_type": "code",
   "execution_count": 1,
   "id": "debdfc2a",
   "metadata": {},
   "outputs": [
    {
     "name": "stderr",
     "output_type": "stream",
     "text": [
      "2023-10-21 15:37:07.074196: I tensorflow/tsl/cuda/cudart_stub.cc:28] Could not find cuda drivers on your machine, GPU will not be used.\n",
      "2023-10-21 15:37:07.142719: I tensorflow/tsl/cuda/cudart_stub.cc:28] Could not find cuda drivers on your machine, GPU will not be used.\n",
      "2023-10-21 15:37:07.143549: I tensorflow/core/platform/cpu_feature_guard.cc:182] This TensorFlow binary is optimized to use available CPU instructions in performance-critical operations.\n",
      "To enable the following instructions: AVX2 FMA, in other operations, rebuild TensorFlow with the appropriate compiler flags.\n",
      "2023-10-21 15:37:08.377448: W tensorflow/compiler/tf2tensorrt/utils/py_utils.cc:38] TF-TRT Warning: Could not find TensorRT\n"
     ]
    }
   ],
   "source": [
    "import pandas as pd\n",
    "import numpy as np\n",
    "from sklearn.model_selection import train_test_split\n",
    "from transformers import AutoTokenizer, AutoModelForCausalLM, TextDataset,DataCollatorForLanguageModeling, AutoModelWithLMHead, TrainingArguments, Trainer"
   ]
  },
  {
   "cell_type": "code",
   "execution_count": 2,
   "id": "2b7a55e5",
   "metadata": {},
   "outputs": [],
   "source": [
    "df = pd.read_csv('song_lyrics_en.csv')"
   ]
  },
  {
   "cell_type": "code",
   "execution_count": 3,
   "id": "b1ec1ecc",
   "metadata": {},
   "outputs": [
    {
     "data": {
      "text/plain": [
       "pop        1393559\n",
       "rap         964605\n",
       "rock        633308\n",
       "rb          155082\n",
       "misc        140986\n",
       "country      86658\n",
       "Name: tag, dtype: int64"
      ]
     },
     "execution_count": 3,
     "metadata": {},
     "output_type": "execute_result"
    }
   ],
   "source": [
    "df['tag'].value_counts()"
   ]
  },
  {
   "cell_type": "markdown",
   "id": "854e451f",
   "metadata": {},
   "source": [
    "# Data Preprocessing"
   ]
  },
  {
   "cell_type": "markdown",
   "id": "cb2b3530",
   "metadata": {},
   "source": [
    "## check for data types"
   ]
  },
  {
   "cell_type": "code",
   "execution_count": 4,
   "id": "8a8347db",
   "metadata": {},
   "outputs": [
    {
     "data": {
      "text/plain": [
       "Unnamed: 0        int64\n",
       "title            object\n",
       "tag              object\n",
       "artist           object\n",
       "year              int64\n",
       "views             int64\n",
       "features         object\n",
       "lyrics           object\n",
       "id                int64\n",
       "language_cld3    object\n",
       "language_ft      object\n",
       "language         object\n",
       "dtype: object"
      ]
     },
     "execution_count": 4,
     "metadata": {},
     "output_type": "execute_result"
    }
   ],
   "source": [
    "df.dtypes"
   ]
  },
  {
   "cell_type": "markdown",
   "id": "86b81bfb",
   "metadata": {},
   "source": [
    "## check for missing values"
   ]
  },
  {
   "cell_type": "code",
   "execution_count": 5,
   "id": "8814694f",
   "metadata": {},
   "outputs": [
    {
     "data": {
      "text/plain": [
       "Unnamed: 0         0\n",
       "title            104\n",
       "tag                0\n",
       "artist             0\n",
       "year               0\n",
       "views              0\n",
       "features           0\n",
       "lyrics             0\n",
       "id                 0\n",
       "language_cld3      0\n",
       "language_ft        0\n",
       "language           0\n",
       "dtype: int64"
      ]
     },
     "execution_count": 5,
     "metadata": {},
     "output_type": "execute_result"
    }
   ],
   "source": [
    "np.sum(pd.isnull(df))"
   ]
  },
  {
   "cell_type": "code",
   "execution_count": 6,
   "id": "8321c78f",
   "metadata": {},
   "outputs": [],
   "source": [
    "df.dropna(inplace=True)"
   ]
  },
  {
   "cell_type": "code",
   "execution_count": 7,
   "id": "29fcdca4",
   "metadata": {},
   "outputs": [
    {
     "data": {
      "text/plain": [
       "Unnamed: 0       0\n",
       "title            0\n",
       "tag              0\n",
       "artist           0\n",
       "year             0\n",
       "views            0\n",
       "features         0\n",
       "lyrics           0\n",
       "id               0\n",
       "language_cld3    0\n",
       "language_ft      0\n",
       "language         0\n",
       "dtype: int64"
      ]
     },
     "execution_count": 7,
     "metadata": {},
     "output_type": "execute_result"
    }
   ],
   "source": [
    "np.sum(pd.isnull(df))"
   ]
  },
  {
   "cell_type": "markdown",
   "id": "7a194387",
   "metadata": {},
   "source": [
    "## remove duplicates "
   ]
  },
  {
   "cell_type": "code",
   "execution_count": 8,
   "id": "2bcc640d",
   "metadata": {},
   "outputs": [
    {
     "data": {
      "text/plain": [
       "0"
      ]
     },
     "execution_count": 8,
     "metadata": {},
     "output_type": "execute_result"
    }
   ],
   "source": [
    "# Create a new DataFrame with duplicate rows\n",
    "subset_columns = [col for col in df.columns if col != 'lyrics']\n",
    "len(df) - len(df.drop_duplicates(subset=subset_columns))"
   ]
  },
  {
   "cell_type": "markdown",
   "id": "370a0179",
   "metadata": {},
   "source": [
    "## filter on country music only"
   ]
  },
  {
   "cell_type": "code",
   "execution_count": 9,
   "id": "a283e125",
   "metadata": {},
   "outputs": [],
   "source": [
    "df_country = df[df['tag'] == 'country'].reset_index().drop(columns = 'index')"
   ]
  },
  {
   "cell_type": "markdown",
   "id": "8fdce64b",
   "metadata": {},
   "source": [
    "## reshape lyrics data to list"
   ]
  },
  {
   "cell_type": "code",
   "execution_count": 10,
   "id": "1a47a63c",
   "metadata": {},
   "outputs": [
    {
     "name": "stderr",
     "output_type": "stream",
     "text": [
      "/tmp/ipykernel_3312/1158678156.py:2: SettingWithCopyWarning: \n",
      "A value is trying to be set on a copy of a slice from a DataFrame\n",
      "\n",
      "See the caveats in the documentation: https://pandas.pydata.org/pandas-docs/stable/user_guide/indexing.html#returning-a-view-versus-a-copy\n",
      "  df_country['lyrics'][i] = df_country['lyrics'][i].split('\\n')\n"
     ]
    }
   ],
   "source": [
    "for i,item in enumerate(df_country['lyrics']):\n",
    "    df_country['lyrics'][i] = df_country['lyrics'][i].split('\\n')"
   ]
  },
  {
   "cell_type": "markdown",
   "id": "45ee6524",
   "metadata": {},
   "source": [
    "## clean up lyrics data function"
   ]
  },
  {
   "cell_type": "code",
   "execution_count": 1,
   "id": "1d3921ee",
   "metadata": {},
   "outputs": [],
   "source": [
    "def make_lyrics_data(songs):\n",
    "    text = []\n",
    "    label = []\n",
    "    sections = []\n",
    "    for song in songs:\n",
    "        section = 'missing'\n",
    "        for i,line in enumerate(song):\n",
    "            if i == (len(song) -1):\n",
    "                break\n",
    "            elif line == '':\n",
    "                continue\n",
    "            elif (line[0] == '['):\n",
    "                if 'chorus' in line.lower():\n",
    "                    section = 'Chorus'\n",
    "                elif 'bridge' in line.lower():\n",
    "                    section = 'Bridge'\n",
    "                elif 'verse' in line.lower():\n",
    "                    section = 'Verse'\n",
    "            elif ((song[i+1] != '') and (song[i+1][0] != '[' )):\n",
    "                text.append(line)\n",
    "                label.append(song[i+1])\n",
    "                sections.append(section)\n",
    "            else:\n",
    "                continue\n",
    "    return text,label,sections"
   ]
  },
  {
   "cell_type": "markdown",
   "id": "a8e2341c",
   "metadata": {},
   "source": [
    "## sample song test function"
   ]
  },
  {
   "cell_type": "code",
   "execution_count": 12,
   "id": "2ecdd9ee",
   "metadata": {},
   "outputs": [],
   "source": [
    "sample_text, sample_label, sample_section = make_lyrics_data(df_country['lyrics'][1:2])"
   ]
  },
  {
   "cell_type": "code",
   "execution_count": 13,
   "id": "2da9a965",
   "metadata": {},
   "outputs": [
    {
     "name": "stdout",
     "output_type": "stream",
     "text": [
      "The first 2 lines in the sample song: ['[Verse 1]', 'They used to call me lightning', 'I was always quick to strike']\n",
      "text : They used to call me lightning , label: I was always quick to strike, section: Verse\n"
     ]
    }
   ],
   "source": [
    "print (f\"The first 2 lines in the sample song: {df_country['lyrics'][1][0:3]}\")\n",
    "print(f\"text : {sample_text[0]} , label: {sample_label[0]}, section: {sample_section[0]}\")"
   ]
  },
  {
   "cell_type": "code",
   "execution_count": 14,
   "id": "8aaecdd6",
   "metadata": {},
   "outputs": [
    {
     "name": "stdout",
     "output_type": "stream",
     "text": [
      "74\n",
      "74\n",
      "74\n"
     ]
    }
   ],
   "source": [
    "print(len(sample_text))\n",
    "print(len(sample_label))\n",
    "print(len(sample_section))"
   ]
  },
  {
   "cell_type": "code",
   "execution_count": 15,
   "id": "8d1ffaab",
   "metadata": {},
   "outputs": [
    {
     "data": {
      "text/plain": [
       "['[Verse 1]',\n",
       " 'They used to call me lightning',\n",
       " 'I was always quick to strike',\n",
       " 'Had everything I own',\n",
       " 'In the saddles on my bike',\n",
       " 'I had a reputation',\n",
       " 'For never staying very long',\n",
       " 'Just like a wild and restless drifter',\n",
       " 'Like a cowboy in a song',\n",
       " '',\n",
       " '[Verse 2]',\n",
       " 'I met a dark haired beauty',\n",
       " 'Where they lay the whiskey down',\n",
       " 'In southern Arizona',\n",
       " 'In a little border town',\n",
       " 'She had to dance for money',\n",
       " 'In that dusty old saloon',\n",
       " 'I dropped a dollar in the jukebox',\n",
       " 'Played that girl a tune, yea',\n",
       " '',\n",
       " '[Chorus]',\n",
       " 'Never see it coming',\n",
       " 'It just hits you by surprise',\n",
       " \"It's that cold place in your soul\",\n",
       " 'That fire in her eyes',\n",
       " 'Makes you come together',\n",
       " 'Like wild horses when they run',\n",
       " 'Now the cards are on the table and',\n",
       " 'The bullets in the gun',\n",
       " '[Verse 3]',\n",
       " 'She was sitting on my lap',\n",
       " 'We still had shots to kill',\n",
       " 'When a man pulled up',\n",
       " 'Who owned the bar',\n",
       " 'In a Cadillac DeVille',\n",
       " 'He grabbed her by her raven hair',\n",
       " 'And threw her on the floor',\n",
       " 'Said no free rides for the cowboys',\n",
       " \"That ain't what I pay you for, no\",\n",
       " '',\n",
       " '[Verse 4]',\n",
       " 'She jumped up and grabbed my pistol',\n",
       " \"Stuck it in the fat man's back\",\n",
       " 'Said open up the safe',\n",
       " 'And put your money in the sack',\n",
       " 'Then tied his hands behind him',\n",
       " 'And put a blindfold on his eyes',\n",
       " \"Said if you're dumb enough to chase us, man\",\n",
       " \"You're dumb enough to die\",\n",
       " '',\n",
       " '[Chorus]',\n",
       " 'Never see it coming',\n",
       " 'It just hits you by surprise',\n",
       " \"It's that cold place in your soul\",\n",
       " 'That fire in her eyes',\n",
       " 'Makes you come together',\n",
       " 'Like wild horses when they run',\n",
       " 'Now the cards are on the table and',\n",
       " 'The bullets in the gun, yeah',\n",
       " '[Verse 5]',\n",
       " 'We rode across the border',\n",
       " 'Down into Mexico',\n",
       " \"When you're running from the law\",\n",
       " \"Ain't that where everybody goes\",\n",
       " 'We came to a town',\n",
       " 'With a name I could not spell',\n",
       " 'She gave me what I came for',\n",
       " 'In that Mexican motel',\n",
       " '',\n",
       " '[Verse 6]',\n",
       " 'I woke up to sirens',\n",
       " 'And the sound of running feet',\n",
       " 'There were fifty Federales',\n",
       " 'Locked and loaded in the street',\n",
       " 'She grabbed my .44',\n",
       " 'I grabbed the money in the sack',\n",
       " 'She kissed me for the last time',\n",
       " 'And we headed out the back',\n",
       " '',\n",
       " '[Bridge]',\n",
       " 'Every gun was on us',\n",
       " 'And every heartbeat pounded',\n",
       " \"There's only one thing left to do\",\n",
       " 'When they got you all surrounded',\n",
       " 'She fired that old pistol',\n",
       " \"But we didn't stand a prayer\",\n",
       " 'Money hit the gravel',\n",
       " 'Bullets filled the air',\n",
       " '[Chorus]',\n",
       " 'Never see it coming',\n",
       " 'It just hits you by surprise',\n",
       " \"It's that cold place in your soul\",\n",
       " 'That fire in her eyes',\n",
       " 'Makes you come together',\n",
       " 'Like wild horses when they run',\n",
       " 'Now the cards are on the table and',\n",
       " 'The bullets in the gun',\n",
       " 'Bullets in the gun',\n",
       " 'Bullets in the gun',\n",
       " 'Bullets in the gun']"
      ]
     },
     "execution_count": 15,
     "metadata": {},
     "output_type": "execute_result"
    }
   ],
   "source": [
    "df_country['lyrics'][1]"
   ]
  },
  {
   "cell_type": "code",
   "execution_count": 16,
   "id": "505dd087",
   "metadata": {},
   "outputs": [
    {
     "data": {
      "text/plain": [
       "['They used to call me lightning',\n",
       " 'I was always quick to strike',\n",
       " 'Had everything I own',\n",
       " 'In the saddles on my bike',\n",
       " 'I had a reputation',\n",
       " 'For never staying very long',\n",
       " 'Just like a wild and restless drifter',\n",
       " 'I met a dark haired beauty',\n",
       " 'Where they lay the whiskey down',\n",
       " 'In southern Arizona',\n",
       " 'In a little border town',\n",
       " 'She had to dance for money',\n",
       " 'In that dusty old saloon',\n",
       " 'I dropped a dollar in the jukebox',\n",
       " 'Never see it coming',\n",
       " 'It just hits you by surprise',\n",
       " \"It's that cold place in your soul\",\n",
       " 'That fire in her eyes',\n",
       " 'Makes you come together',\n",
       " 'Like wild horses when they run',\n",
       " 'Now the cards are on the table and',\n",
       " 'She was sitting on my lap',\n",
       " 'We still had shots to kill',\n",
       " 'When a man pulled up',\n",
       " 'Who owned the bar',\n",
       " 'In a Cadillac DeVille',\n",
       " 'He grabbed her by her raven hair',\n",
       " 'And threw her on the floor',\n",
       " 'Said no free rides for the cowboys',\n",
       " 'She jumped up and grabbed my pistol',\n",
       " \"Stuck it in the fat man's back\",\n",
       " 'Said open up the safe',\n",
       " 'And put your money in the sack',\n",
       " 'Then tied his hands behind him',\n",
       " 'And put a blindfold on his eyes',\n",
       " \"Said if you're dumb enough to chase us, man\",\n",
       " 'Never see it coming',\n",
       " 'It just hits you by surprise',\n",
       " \"It's that cold place in your soul\",\n",
       " 'That fire in her eyes',\n",
       " 'Makes you come together',\n",
       " 'Like wild horses when they run',\n",
       " 'Now the cards are on the table and',\n",
       " 'We rode across the border',\n",
       " 'Down into Mexico',\n",
       " \"When you're running from the law\",\n",
       " \"Ain't that where everybody goes\",\n",
       " 'We came to a town',\n",
       " 'With a name I could not spell',\n",
       " 'She gave me what I came for',\n",
       " 'I woke up to sirens',\n",
       " 'And the sound of running feet',\n",
       " 'There were fifty Federales',\n",
       " 'Locked and loaded in the street',\n",
       " 'She grabbed my .44',\n",
       " 'I grabbed the money in the sack',\n",
       " 'She kissed me for the last time',\n",
       " 'Every gun was on us',\n",
       " 'And every heartbeat pounded',\n",
       " \"There's only one thing left to do\",\n",
       " 'When they got you all surrounded',\n",
       " 'She fired that old pistol',\n",
       " \"But we didn't stand a prayer\",\n",
       " 'Money hit the gravel',\n",
       " 'Never see it coming',\n",
       " 'It just hits you by surprise',\n",
       " \"It's that cold place in your soul\",\n",
       " 'That fire in her eyes',\n",
       " 'Makes you come together',\n",
       " 'Like wild horses when they run',\n",
       " 'Now the cards are on the table and',\n",
       " 'The bullets in the gun',\n",
       " 'Bullets in the gun',\n",
       " 'Bullets in the gun']"
      ]
     },
     "execution_count": 16,
     "metadata": {},
     "output_type": "execute_result"
    }
   ],
   "source": [
    "sample_text"
   ]
  },
  {
   "cell_type": "code",
   "execution_count": 17,
   "id": "f0edc9b0",
   "metadata": {},
   "outputs": [
    {
     "data": {
      "text/plain": [
       "['I was always quick to strike',\n",
       " 'Had everything I own',\n",
       " 'In the saddles on my bike',\n",
       " 'I had a reputation',\n",
       " 'For never staying very long',\n",
       " 'Just like a wild and restless drifter',\n",
       " 'Like a cowboy in a song',\n",
       " 'Where they lay the whiskey down',\n",
       " 'In southern Arizona',\n",
       " 'In a little border town',\n",
       " 'She had to dance for money',\n",
       " 'In that dusty old saloon',\n",
       " 'I dropped a dollar in the jukebox',\n",
       " 'Played that girl a tune, yea',\n",
       " 'It just hits you by surprise',\n",
       " \"It's that cold place in your soul\",\n",
       " 'That fire in her eyes',\n",
       " 'Makes you come together',\n",
       " 'Like wild horses when they run',\n",
       " 'Now the cards are on the table and',\n",
       " 'The bullets in the gun',\n",
       " 'We still had shots to kill',\n",
       " 'When a man pulled up',\n",
       " 'Who owned the bar',\n",
       " 'In a Cadillac DeVille',\n",
       " 'He grabbed her by her raven hair',\n",
       " 'And threw her on the floor',\n",
       " 'Said no free rides for the cowboys',\n",
       " \"That ain't what I pay you for, no\",\n",
       " \"Stuck it in the fat man's back\",\n",
       " 'Said open up the safe',\n",
       " 'And put your money in the sack',\n",
       " 'Then tied his hands behind him',\n",
       " 'And put a blindfold on his eyes',\n",
       " \"Said if you're dumb enough to chase us, man\",\n",
       " \"You're dumb enough to die\",\n",
       " 'It just hits you by surprise',\n",
       " \"It's that cold place in your soul\",\n",
       " 'That fire in her eyes',\n",
       " 'Makes you come together',\n",
       " 'Like wild horses when they run',\n",
       " 'Now the cards are on the table and',\n",
       " 'The bullets in the gun, yeah',\n",
       " 'Down into Mexico',\n",
       " \"When you're running from the law\",\n",
       " \"Ain't that where everybody goes\",\n",
       " 'We came to a town',\n",
       " 'With a name I could not spell',\n",
       " 'She gave me what I came for',\n",
       " 'In that Mexican motel',\n",
       " 'And the sound of running feet',\n",
       " 'There were fifty Federales',\n",
       " 'Locked and loaded in the street',\n",
       " 'She grabbed my .44',\n",
       " 'I grabbed the money in the sack',\n",
       " 'She kissed me for the last time',\n",
       " 'And we headed out the back',\n",
       " 'And every heartbeat pounded',\n",
       " \"There's only one thing left to do\",\n",
       " 'When they got you all surrounded',\n",
       " 'She fired that old pistol',\n",
       " \"But we didn't stand a prayer\",\n",
       " 'Money hit the gravel',\n",
       " 'Bullets filled the air',\n",
       " 'It just hits you by surprise',\n",
       " \"It's that cold place in your soul\",\n",
       " 'That fire in her eyes',\n",
       " 'Makes you come together',\n",
       " 'Like wild horses when they run',\n",
       " 'Now the cards are on the table and',\n",
       " 'The bullets in the gun',\n",
       " 'Bullets in the gun',\n",
       " 'Bullets in the gun',\n",
       " 'Bullets in the gun']"
      ]
     },
     "execution_count": 17,
     "metadata": {},
     "output_type": "execute_result"
    }
   ],
   "source": [
    "sample_label"
   ]
  },
  {
   "cell_type": "markdown",
   "id": "48b5108b",
   "metadata": {},
   "source": [
    "## batch lyrics data preprocessing"
   ]
  },
  {
   "cell_type": "code",
   "execution_count": 18,
   "id": "d12994ba",
   "metadata": {},
   "outputs": [],
   "source": [
    "text, label, section = make_lyrics_data(df_country['lyrics'])"
   ]
  },
  {
   "cell_type": "code",
   "execution_count": 19,
   "id": "79f2b6e9",
   "metadata": {},
   "outputs": [
    {
     "name": "stdout",
     "output_type": "stream",
     "text": [
      "2237419\n",
      "2237419\n",
      "2237419\n"
     ]
    }
   ],
   "source": [
    "print(len(text))\n",
    "print(len(label))\n",
    "print(len(section))"
   ]
  },
  {
   "cell_type": "markdown",
   "id": "d4a55122",
   "metadata": {},
   "source": [
    "## split data into tmest, train, and validation"
   ]
  },
  {
   "cell_type": "code",
   "execution_count": 20,
   "id": "6178d863",
   "metadata": {},
   "outputs": [],
   "source": [
    "X = text\n",
    "y = label\n",
    "\n",
    "# Split your data into 80/20 train and test sets\n",
    "X_train, X_test, y_train, y_test = train_test_split(X, y, test_size=0.2, random_state=42)\n"
   ]
  },
  {
   "cell_type": "code",
   "execution_count": 21,
   "id": "65589530",
   "metadata": {},
   "outputs": [],
   "source": [
    "# Clear the content of train.txt\n",
    "with open('train.txt', 'w') as f:\n",
    "    pass  # An empty block does nothing, effectively clearing the file\n",
    "\n",
    "# Clear the content of test.txt\n",
    "with open('test.txt', 'w') as f:\n",
    "    pass  # An empty block does nothing, effectively clearing the file\n",
    "\n",
    "with open('train.txt', 'w') as f:\n",
    "  for t,l in zip(X_train,y_train):\n",
    "    f.write('Lyric:')\n",
    "    f.write(t)\n",
    "    f.write('Next:')\n",
    "    f.write(l)\n",
    "    f.write('\\n')\n",
    "\n",
    "with open('test.txt', 'w') as f:\n",
    "  for t,l in zip(X_test,y_test):\n",
    "    f.write('Lyric:')\n",
    "    f.write(t)\n",
    "    f.write('Next:')\n",
    "    f.write(l)\n",
    "    f.write('\\n')\n",
    "\n",
    "train_path = 'train.txt'\n",
    "test_path = 'test.txt'"
   ]
  },
  {
   "cell_type": "code",
   "execution_count": 22,
   "id": "ad8f10da",
   "metadata": {},
   "outputs": [],
   "source": [
    "# Initialize GPT-2 tokenizer and model\n",
    "model_name = \"gpt2\" \n",
    "tokenizer = AutoTokenizer.from_pretrained(model_name)\n",
    "model = AutoModelForCausalLM.from_pretrained(model_name)\n",
    "\n"
   ]
  },
  {
   "cell_type": "code",
   "execution_count": 23,
   "id": "7bb9ed9b",
   "metadata": {},
   "outputs": [
    {
     "name": "stderr",
     "output_type": "stream",
     "text": [
      "/home/casey_hahn/anaconda3/lib/python3.11/site-packages/transformers/data/datasets/language_modeling.py:53: FutureWarning: This dataset will be removed from the library soon, preprocessing should be handled with the 🤗 Datasets library. You can have a look at this example script for pointers: https://github.com/huggingface/transformers/blob/main/examples/pytorch/language-modeling/run_mlm.py\n",
      "  warnings.warn(\n"
     ]
    }
   ],
   "source": [
    "def load_dataset(train_path,test_path,tokenizer):\n",
    "    train_dataset = TextDataset(\n",
    "        tokenizer=tokenizer,\n",
    "        file_path=train_path,\n",
    "        block_size=16,)\n",
    "        #special_tokens=[\"Lyric:\", \"Next:\"])\n",
    "    \n",
    "    test_dataset = TextDataset(\n",
    "        tokenizer=tokenizer,\n",
    "        file_path=test_path,\n",
    "        block_size=16,)\n",
    "        #special_tokens=[\"Lyric:\", \"Next:\"])\n",
    "\n",
    "    data_collator = DataCollatorForLanguageModeling(\n",
    "        tokenizer=tokenizer, mlm=False,\n",
    "    )\n",
    "    return train_dataset,test_dataset,data_collator\n",
    "\n",
    "train_dataset,test_dataset,data_collator = load_dataset(train_path,test_path,tokenizer)"
   ]
  },
  {
   "cell_type": "code",
   "execution_count": 24,
   "id": "bd242d6b",
   "metadata": {},
   "outputs": [
    {
     "name": "stderr",
     "output_type": "stream",
     "text": [
      "/home/casey_hahn/anaconda3/lib/python3.11/site-packages/transformers/models/auto/modeling_auto.py:1322: FutureWarning: The class `AutoModelWithLMHead` is deprecated and will be removed in a future version. Please use `AutoModelForCausalLM` for causal language models, `AutoModelForMaskedLM` for masked language models and `AutoModelForSeq2SeqLM` for encoder-decoder models.\n",
      "  warnings.warn(\n"
     ]
    }
   ],
   "source": [
    "model = AutoModelWithLMHead.from_pretrained(model_name)\n",
    "\n",
    "training_args = TrainingArguments(\n",
    "    output_dir=\"./gpt2\", \n",
    "    overwrite_output_dir=True,\n",
    "    num_train_epochs=1, \n",
    "    per_device_train_batch_size=32,\n",
    "    per_device_eval_batch_size=64,\n",
    "    eval_steps = 100, \n",
    "    save_steps=800, \n",
    "    warmup_steps=500\n",
    "    )\n",
    "\n",
    "trainer = Trainer(\n",
    "    model=model,\n",
    "    args=training_args,\n",
    "    data_collator=data_collator,\n",
    "    train_dataset=train_dataset,\n",
    "    eval_dataset=test_dataset\n",
    ")"
   ]
  },
  {
   "cell_type": "code",
   "execution_count": null,
   "id": "971c5865",
   "metadata": {},
   "outputs": [
    {
     "name": "stderr",
     "output_type": "stream",
     "text": [
      "/home/casey_hahn/anaconda3/lib/python3.11/site-packages/transformers/optimization.py:391: FutureWarning: This implementation of AdamW is deprecated and will be removed in a future version. Use the PyTorch implementation torch.optim.AdamW instead, or set `no_deprecation_warning=True` to disable this warning\n",
      "  warnings.warn(\n"
     ]
    },
    {
     "data": {
      "text/html": [
       "\n",
       "    <div>\n",
       "      \n",
       "      <progress value='6401' max='81134' style='width:300px; height:20px; vertical-align: middle;'></progress>\n",
       "      [ 6401/81134 2:37:57 < 30:44:45, 0.68 it/s, Epoch 0.08/1]\n",
       "    </div>\n",
       "    <table border=\"1\" class=\"dataframe\">\n",
       "  <thead>\n",
       " <tr style=\"text-align: left;\">\n",
       "      <th>Step</th>\n",
       "      <th>Training Loss</th>\n",
       "    </tr>\n",
       "  </thead>\n",
       "  <tbody>\n",
       "    <tr>\n",
       "      <td>500</td>\n",
       "      <td>3.856300</td>\n",
       "    </tr>\n",
       "    <tr>\n",
       "      <td>1000</td>\n",
       "      <td>3.362300</td>\n",
       "    </tr>\n",
       "    <tr>\n",
       "      <td>1500</td>\n",
       "      <td>3.290700</td>\n",
       "    </tr>\n",
       "    <tr>\n",
       "      <td>2000</td>\n",
       "      <td>3.268100</td>\n",
       "    </tr>\n",
       "    <tr>\n",
       "      <td>2500</td>\n",
       "      <td>3.234100</td>\n",
       "    </tr>\n",
       "    <tr>\n",
       "      <td>3000</td>\n",
       "      <td>3.217300</td>\n",
       "    </tr>\n",
       "    <tr>\n",
       "      <td>3500</td>\n",
       "      <td>3.193300</td>\n",
       "    </tr>\n",
       "    <tr>\n",
       "      <td>4000</td>\n",
       "      <td>3.175700</td>\n",
       "    </tr>\n",
       "    <tr>\n",
       "      <td>4500</td>\n",
       "      <td>3.175700</td>\n",
       "    </tr>\n",
       "    <tr>\n",
       "      <td>5000</td>\n",
       "      <td>3.166900</td>\n",
       "    </tr>\n",
       "    <tr>\n",
       "      <td>5500</td>\n",
       "      <td>3.145300</td>\n",
       "    </tr>\n",
       "    <tr>\n",
       "      <td>6000</td>\n",
       "      <td>3.158400</td>\n",
       "    </tr>\n",
       "  </tbody>\n",
       "</table><p>"
      ],
      "text/plain": [
       "<IPython.core.display.HTML object>"
      ]
     },
     "metadata": {},
     "output_type": "display_data"
    }
   ],
   "source": [
    "trainer.train()\n"
   ]
  },
  {
   "cell_type": "code",
   "execution_count": null,
   "id": "1986a073",
   "metadata": {},
   "outputs": [],
   "source": []
  }
 ],
 "metadata": {
  "kernelspec": {
   "display_name": "Python 3 (ipykernel)",
   "language": "python",
   "name": "python3"
  },
  "language_info": {
   "codemirror_mode": {
    "name": "ipython",
    "version": 3
   },
   "file_extension": ".py",
   "mimetype": "text/x-python",
   "name": "python",
   "nbconvert_exporter": "python",
   "pygments_lexer": "ipython3",
   "version": "3.11.4"
  }
 },
 "nbformat": 4,
 "nbformat_minor": 5
}
